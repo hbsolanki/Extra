{
 "cells": [
  {
   "cell_type": "markdown",
   "id": "8052adf3",
   "metadata": {},
   "source": [
    "<center> <h1 style=\"background-color:cyan;\"> Pandas Test </h1> </center>"
   ]
  },
  {
   "cell_type": "markdown",
   "id": "f0e976e7",
   "metadata": {},
   "source": [
    "## Task-1 You have been given a dataset of car prices and their respective horsepower, mileage, and weight. You have been tasked to analyze the relationship between these variables and create a scatter plot to visualize the patterns.\n",
    "\n",
    "\n",
    "- [Dataset](https://raw.githubusercontent.com/patelmanishv/Sem4Data/main/Data/car_data.csv)"
   ]
  },
  {
   "cell_type": "code",
   "execution_count": null,
   "id": "55d78ac9",
   "metadata": {},
   "outputs": [],
   "source": []
  },
  {
   "cell_type": "markdown",
   "id": "e2f1f1b2",
   "metadata": {},
   "source": [
    "## Task-2 You have been given a dataset of house prices and their respective lot size and square footage. Your task is to create a scatter plot to determine if there is any correlation between these variables.\n",
    " \n",
    "- [Dataset](https://raw.githubusercontent.com/patelmanishv/Sem4Data/main/Data/house_data.csv)"
   ]
  },
  {
   "cell_type": "code",
   "execution_count": null,
   "id": "3f11a10e",
   "metadata": {},
   "outputs": [],
   "source": []
  },
  {
   "cell_type": "markdown",
   "id": "32214a58",
   "metadata": {},
   "source": [
    "## Task - 3 Use the file heights_weights.csv which contains 10000 non-null values for heights and weights. The Male column shows 1 if the person is a Male and 0 if the person is a Female. Take file of dataset from below: \n",
    "- [Dataset](https://raw.githubusercontent.com/patelmanishv/Sem4Data/main/Data/heights_weights.csv)\n",
    "\n",
    " 1. Convert this file into a pandas Data Frame. \n",
    " 2. Display basic information like memory and data types for this data frame. \n",
    " 3. Display basic statistics like mean, std, quartiles, etc. for this data frame. \n",
    " 4. Create a correlation table for the data frame and comment about what kind ofcorrelation is there between Height and Weight.\n"
   ]
  },
  {
   "cell_type": "code",
   "execution_count": null,
   "id": "b94c946a",
   "metadata": {},
   "outputs": [],
   "source": []
  }
 ],
 "metadata": {
  "kernelspec": {
   "display_name": "Python 3 (ipykernel)",
   "language": "python",
   "name": "python3"
  },
  "language_info": {
   "codemirror_mode": {
    "name": "ipython",
    "version": 3
   },
   "file_extension": ".py",
   "mimetype": "text/x-python",
   "name": "python",
   "nbconvert_exporter": "python",
   "pygments_lexer": "ipython3",
   "version": "3.11.7"
  }
 },
 "nbformat": 4,
 "nbformat_minor": 5
}
